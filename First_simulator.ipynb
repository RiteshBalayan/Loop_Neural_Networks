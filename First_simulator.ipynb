{
 "cells": [
  {
   "cell_type": "markdown",
   "id": "90585d0c-ec7c-4d7f-9f1a-7ca170540a0e",
   "metadata": {},
   "source": [
    "Implementation of Loop memory neural networks"
   ]
  },
  {
   "cell_type": "markdown",
   "id": "acf6aff0-aec2-4873-8fa2-d81ce30697e2",
   "metadata": {},
   "source": [
    "Refer to PDF attached"
   ]
  },
  {
   "cell_type": "code",
   "execution_count": 1,
   "id": "30af62f8-677b-4f5d-865a-80066cf80c92",
   "metadata": {},
   "outputs": [],
   "source": [
    "import numpy as np\n",
    "import matplotlib.pyplot as plt"
   ]
  },
  {
   "cell_type": "code",
   "execution_count": 2,
   "id": "4d0faf0b-dcc3-4a15-b6fc-c21c00eba48c",
   "metadata": {},
   "outputs": [],
   "source": [
    "def plot_grid(grid):\n",
    "    '''\n",
    "    Plot Grid defined by square grid of points and connection beetween poins given as either one or zero.\n",
    "    '''\n",
    "    height, width, _ = grid.shape\n",
    "    \n",
    "    plt.figure(figsize=(width, height))\n",
    "    ax = plt.gca()\n",
    "    \n",
    "    # Iterate through each point in the grid\n",
    "    for y in range(height):\n",
    "        for x in range(width):\n",
    "            point = grid[y, x]\n",
    "            \n",
    "            # Coordinates\n",
    "            x_coord, y_coord = point[0], point[1]\n",
    "            \n",
    "            # Edges for first nearest neighbour: Up, Down, Left, Right\n",
    "            edges = point[2:6]\n",
    "            \n",
    "            # Draw line for each edge if present\n",
    "            if edges[0]:  # Up\n",
    "                plt.plot([x_coord, x_coord], [y_coord, y_coord + 0.5], 'k-')\n",
    "            if edges[1]:  # Down\n",
    "                plt.plot([x_coord, x_coord], [y_coord, y_coord - 0.5], 'k-')\n",
    "            if edges[2]:  # Left\n",
    "                plt.plot([x_coord, x_coord - 0.5], [y_coord, y_coord], 'k-')\n",
    "            if edges[3]:  # Right\n",
    "                plt.plot([x_coord, x_coord + 0.5], [y_coord, y_coord], 'k-')\n",
    "\n",
    "            if len(point) > 6:\n",
    "            # Edges for second nearest neighbour: Up, Down, Left, Right\n",
    "                edges = point[6:]\n",
    "            \n",
    "                # Draw line for each edge if present\n",
    "                if edges[0]:  # Up-right\n",
    "                    plt.plot([x_coord, x_coord + 0.5], [y_coord , y_coord + 0.5], 'k-')\n",
    "                if edges[1]:  # Down-left\n",
    "                    plt.plot([x_coord, x_coord - 0.5], [y_coord , y_coord - 0.5], 'k-')\n",
    "                if edges[2]:  # Up-left\n",
    "                    plt.plot([x_coord , x_coord - 0.5], [y_coord, y_coord + 0.5], 'k-')\n",
    "                if edges[3]:  # Down-Right\n",
    "                    plt.plot([x_coord , x_coord + 0.5], [y_coord, y_coord - 0.5], 'k-')\n",
    "    \n",
    "    ax.set_aspect('equal')\n",
    "    plt.axis('off')\n",
    "    plt.show()"
   ]
  },
  {
   "cell_type": "code",
   "execution_count": 3,
   "id": "982323e4-7b7b-4e3d-86e8-b1fdf00b59e9",
   "metadata": {},
   "outputs": [],
   "source": [
    "class Grid:\n",
    "    '''\n",
    "    Initialise the square Grid points with parameters:\n",
    "    Height, Weight, Neigghbours, activity\n",
    "\n",
    "    Neighbours: either one or two, One means connection between grid points in four sides of square and two means connections between diagnols also.\n",
    "\n",
    "    Activity: float between (0-4 for 1 neighbour) and (0-8 for 2 neighbour)  Total probability assigned at each grid point, representing number number of active connections when current flows.\n",
    "              Probabilites are randomly assigned to each connection on grid with total of all being Activity.\n",
    "    '''\n",
    "    def __init__(self, width, height, neighbours = 1, activity = 2):\n",
    "        self.neighbours = neighbours\n",
    "        self.activity = activity\n",
    "\n",
    "        if self.neighbours == 2:\n",
    "            self.grid = np.zeros((height, width, 10), dtype=float)\n",
    "        else :\n",
    "            self.grid = np.zeros((height, width, 6), dtype=float)\n",
    "            \n",
    "        self._setup_grid()\n",
    "        \n",
    "\n",
    "    def _setup_grid(self):\n",
    "        height, width, _ = self.grid.shape\n",
    "        \n",
    "        for y in range(height):\n",
    "            for x in range(width):\n",
    "                self.grid[y, x, 0] = x  # X coordinate\n",
    "                self.grid[y, x, 1] = y  # Y coordinate\n",
    "\n",
    "                total_propability = self.activity\n",
    "\n",
    "                if self.neighbours == 2:  \n",
    "                    # Generate random probabilities that sum to 1\n",
    "                    probabilities = np.random.dirichlet(np.ones(8), size=1)[0]*total_propability\n",
    "                    self.grid[y, x, 2:10] = probabilities\n",
    "\n",
    "                else :\n",
    "                    # Generate random probabilities that sum to 1\n",
    "                    probabilities = np.random.dirichlet(np.ones(4), size=1)[0]*total_propability\n",
    "                    self.grid[y, x, 2:6] = probabilities"
   ]
  },
  {
   "cell_type": "markdown",
   "id": "e10e4439-6652-4c2a-a9d6-79b1593d53d7",
   "metadata": {},
   "source": [
    "Example of a grid with 10 X 5 dimention and 2 neighbours"
   ]
  },
  {
   "cell_type": "code",
   "execution_count": 4,
   "id": "e3d67ed4-3367-4c0a-8313-7814d311266f",
   "metadata": {},
   "outputs": [
    {
     "data": {
      "image/png": "[encoded data removed]",
      "text/plain": [
       "<Figure size 1000x500 with 1 Axes>"
      ]
     },
     "metadata": {},
     "output_type": "display_data"
    }
   ],
   "source": [
    "grid = Grid(10, 5, neighbours = 2, activity = 4)\n",
    "plot_grid(grid.grid)"
   ]
  },
  {
   "cell_type": "code",
   "execution_count": 5,
   "id": "0e96537e-0a4a-4218-91ad-c4b1a4b6a518",
   "metadata": {},
   "outputs": [],
   "source": [
    "def probability_collapse(grid_instance):\n",
    "    '''\n",
    "    Take the Grid with defined probabilities, and give new grid with active synapses only,\n",
    "    Active synapse are calculated based of their probability defined.\n",
    "    eg if synapse has probability 0.8 then there is 80% of it being active.\n",
    "    '''\n",
    "    height, width, depth = grid_instance.shape\n",
    "    new_grid = np.zeros((height, width, depth), dtype=int)  # New grid with (x, y, assigned_value)\n",
    "\n",
    "    for y in range(height):\n",
    "        for x in range(width):\n",
    "            x_coord = int(grid_instance[y, x, 0])\n",
    "            y_coord = int(grid_instance[y, x, 1])\n",
    "\n",
    "            # Determine the range of probabilities based on the 'neighbours' attribute\n",
    "            prob_start_index = 2\n",
    "            prob_end_index = depth\n",
    "\n",
    "            # Extract probabilities\n",
    "            probabilities = grid_instance[y, x, prob_start_index:prob_end_index]\n",
    "\n",
    "            # Initialize an empty list to accumulate assigned values based on probabilities\n",
    "            collapsed = []\n",
    "\n",
    "            # Assign 1 or 0 based on each probability and append to 'collapsed'\n",
    "            for prob in probabilities:\n",
    "                assigned_value = 1 if np.random.rand() <= prob else 0\n",
    "                collapsed.append(assigned_value)\n",
    "\n",
    "            # Convert 'collapsed' to a NumPy array and store it in the new grid\n",
    "            new_grid[y, x, 0] = x_coord\n",
    "            new_grid[y, x, 1] = y_coord\n",
    "            new_grid[y, x, 2:prob_end_index] = np.array(collapsed)\n",
    "\n",
    "    return new_grid"
   ]
  },
  {
   "cell_type": "code",
   "execution_count": 6,
   "id": "b31b71ff-292d-49f9-8be7-a765b5fd7f56",
   "metadata": {},
   "outputs": [
    {
     "data": {
      "image/png": "[encoded data removed]",
      "text/plain": [
       "<Figure size 1000x500 with 1 Axes>"
      ]
     },
     "metadata": {},
     "output_type": "display_data"
    }
   ],
   "source": [
    "# eg of plot after probability collapse\n",
    "grid = Grid(10, 5, neighbours = 2, activity = 4)\n",
    "plot_grid(probability_collapse(grid.grid))"
   ]
  },
  {
   "cell_type": "code",
   "execution_count": 7,
   "id": "b600b12e-1928-4638-aef3-17b43194eca9",
   "metadata": {},
   "outputs": [],
   "source": [
    "def modify_probability(grid, instance, learning_rate):\n",
    "    '''\n",
    "    Given a grid probablilies, collapse grid instance and learning rate (0-100),\n",
    "    Gives new grid probabilities.\n",
    "    '''\n",
    "    height, width, depth = grid.shape\n",
    "\n",
    "    for y in range(height):\n",
    "        for x in range(width):\n",
    "            x_coord = int(grid[y, x, 0])\n",
    "            y_coord = int(grid[y, x, 1])\n",
    "\n",
    "            # Determine the range of probabilities based on the 'neighbours' attribute\n",
    "            prob_start_index = 2\n",
    "            prob_end_index = depth\n",
    "\n",
    "            total_synapse = depth - 2\n",
    "            active_synapse = np.sum(instance[y,x,2:])\n",
    "\n",
    "            for i in range (depth - 2):\n",
    "                if instance[y, x, i+2] ==1:\n",
    "                    if active_synapse == 0:\n",
    "                        pass\n",
    "                    else:\n",
    "                        grid[y, x, i+2] = grid[y, x, i+2]*(1+ (learning_rate/100)/active_synapse)\n",
    "                else :\n",
    "                    if active_synapse == 0:\n",
    "                        pass\n",
    "                    else:\n",
    "                        grid[y, x, i+2] = grid[y, x, i+2]*(1- (learning_rate/100)/active_synapse)\n",
    "    return grid"
   ]
  },
  {
   "cell_type": "code",
   "execution_count": 8,
   "id": "4eb52003-4bda-4714-b78d-29a1b430260a",
   "metadata": {},
   "outputs": [],
   "source": [
    "class Simulator:\n",
    "    '''\n",
    "    Simulate the learning in network, with modify probability in each step and 5 step history rembered in in modify step to give past state memory.\n",
    "\n",
    "    grid: Grid with probabiliest of synapse\n",
    "\n",
    "    Activation: List of Grid with synapse being 0 or 1, length of list must be number of itteration.\n",
    "                we no activation is provided in anystep of activation pass grid of all zeros\n",
    "\n",
    "    Itteration: Number of steps in learning\n",
    "\n",
    "    Retain_rate: Expontial constant of how past state grid memory is being decayed in learing step\n",
    "\n",
    "    Learning rate: Effect of activation on grid probabilities\n",
    "    '''\n",
    "    def __init__(self, grid, activation, itteration=10, retain_rate=0.5, learning_rate=10):\n",
    "        self.grid = grid\n",
    "        self.activation = activation\n",
    "        self.itteration = itteration\n",
    "        self.retain_rate = retain_rate\n",
    "        self.learning_rate = learning_rate\n",
    "        self.instance_snap = []\n",
    "        self.height = self.grid.shape[0]\n",
    "        self.width = self.grid.shape[1]\n",
    "        self.depth = self.grid.shape[2]\n",
    "        self.snap_m2 = np.zeros((self.height, self.width, self.depth), dtype=float)\n",
    "        self.snap_m3 = np.zeros((self.height, self.width, self.depth), dtype=float)\n",
    "        self.snap_m4 = np.zeros((self.height, self.width, self.depth), dtype=float)\n",
    "        self.snap_m5 = np.zeros((self.height, self.width, self.depth), dtype=float)\n",
    "            \n",
    "        self._simulate()\n",
    "\n",
    "    def _simulate(self):\n",
    "        for i in range(self.itteration):\n",
    "            overlay = self.activation[i] + self.snap_m5 + self.snap_m4 + self.snap_m3 + self.snap_m2\n",
    "\n",
    "            self.snap_m5 = self.snap_m4*(1/(1 + np.exp(-5*(self.retain_rate-1) )))\n",
    "            self.snap_m4 = self.snap_m3*(1/(1 + np.exp(-5*(self.retain_rate-1) )))\n",
    "            self.snap_m3 = self.snap_m2*(1/(1 + np.exp(-5*(self.retain_rate-1) )))\n",
    "            self.snap_m2 = self.activation[i]*(1/(1 + np.exp(-5*(self.retain_rate-1) )))  \n",
    "\n",
    "            old_grid = self.grid\n",
    "            net_grid = old_grid + overlay\n",
    "            \n",
    "            instance = probability_collapse(net_grid)\n",
    "            self.grid = modify_probability(net_grid, instance, self.learning_rate)\n",
    "            self.instance_snap.append(instance)            "
   ]
  },
  {
   "cell_type": "markdown",
   "id": "6b80a8f0-7d12-412f-8026-1ebc52d6cf68",
   "metadata": {},
   "source": [
    "Example of 10 X 5 Grid with one neighbours, and null activation function"
   ]
  },
  {
   "cell_type": "code",
   "execution_count": 9,
   "id": "78739b2a-d953-4e37-a3e8-2c8a32998a8c",
   "metadata": {},
   "outputs": [
    {
     "data": {
      "image/png": "[encoded data removed]",
      "text/plain": [
       "<Figure size 1000x500 with 1 Axes>"
      ]
     },
     "metadata": {},
     "output_type": "display_data"
    }
   ],
   "source": [
    "grid = Grid(10, 5, neighbours = 1, activity = 3)\n",
    "\n",
    "activation_list = [np.zeros((5, 10, 6), dtype=float) for _ in range(15)]\n",
    "\n",
    "first_sim = Simulator(grid.grid, activation_list, itteration=15, learning_rate=40, retain_rate=10)\n",
    "\n",
    "plot_grid(first_sim.instance_snap[10])"
   ]
  },
  {
   "cell_type": "markdown",
   "id": "acbe403d-aa5c-45d8-afbe-4314dea162e7",
   "metadata": {},
   "source": [
    "Example of 10 X 5 Grid with two neighbours, and null activation function"
   ]
  },
  {
   "cell_type": "code",
   "execution_count": 10,
   "id": "55d196f9-9e24-4cf3-8556-3897dfe86204",
   "metadata": {},
   "outputs": [
    {
     "data": {
      "image/png": "[encoded data removed]",
      "text/plain": [
       "<Figure size 1000x500 with 1 Axes>"
      ]
     },
     "metadata": {},
     "output_type": "display_data"
    }
   ],
   "source": [
    "grid = Grid(10, 5, neighbours = 2, activity = 3)\n",
    "\n",
    "activation_list = [np.zeros((5, 10, 10), dtype=float) for _ in range(15)]\n",
    "\n",
    "first_sim = Simulator(grid.grid, activation_list, itteration=15, learning_rate=40, retain_rate=10)\n",
    "\n",
    "plot_grid(first_sim.instance_snap[10])"
   ]
  },
  {
   "cell_type": "code",
   "execution_count": null,
   "id": "065eb20b-7c95-4b04-bca8-2833d86473e3",
   "metadata": {},
   "outputs": [],
   "source": []
  },
  {
   "cell_type": "code",
   "execution_count": null,
   "id": "8420f290-14c8-4b2f-ae67-43f2fd447b22",
   "metadata": {},
   "outputs": [],
   "source": []
  },
  {
   "cell_type": "code",
   "execution_count": null,
   "id": "4a04374d-5037-4235-a1c9-24679080726b",
   "metadata": {},
   "outputs": [],
   "source": []
  }
 ],
 "metadata": {
  "kernelspec": {
   "display_name": "Python 3 (ipykernel)",
   "language": "python",
   "name": "python3"
  },
  "language_info": {
   "codemirror_mode": {
    "name": "ipython",
    "version": 3
   },
   "file_extension": ".py",
   "mimetype": "text/x-python",
   "name": "python",
   "nbconvert_exporter": "python",
   "pygments_lexer": "ipython3",
   "version": "3.10.12"
  }
 },
 "nbformat": 4,
 "nbformat_minor": 5
}
